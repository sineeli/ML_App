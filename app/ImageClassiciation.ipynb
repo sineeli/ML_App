{
 "cells": [
  {
   "cell_type": "code",
   "execution_count": null,
   "id": "a5634fc4-6d24-4bce-83dc-6add4490e90a",
   "metadata": {},
   "outputs": [],
   "source": [
    "import os\n",
    "import yaml\n",
    "import pprint\n",
    "import numpy as np\n",
    "import tensorflow as tf\n",
    "import tensorflow_models as tfm"
   ]
  },
  {
   "cell_type": "code",
   "execution_count": null,
   "id": "7d201938-a18a-4230-94a6-8cacb30deb72",
   "metadata": {},
   "outputs": [],
   "source": [
    "from official.core import exp_factory\n",
    "from official.vision.modeling import factory\n",
    "from official.vision.serving import export_saved_model_lib"
   ]
  },
  {
   "cell_type": "code",
   "execution_count": 2,
   "id": "486fec0a-784f-40df-b021-d34844809441",
   "metadata": {},
   "outputs": [
    {
     "name": "stdout",
     "output_type": "stream",
     "text": [
      "  % Total    % Received % Xferd  Average Speed   Time    Time     Time  Current\n",
      "                                 Dload  Upload   Total   Spent    Left  Speed\n",
      "100 90.8M  100 90.8M    0     0  32.0M      0  0:00:02  0:00:02 --:--:-- 32.0M\n",
      "x ckpt-62400.data-00000-of-00001\n",
      "x ckpt-62400.index\n",
      "  % Total    % Received % Xferd  Average Speed   Time    Time     Time  Current\n",
      "                                 Dload  Upload   Total   Spent    Left  Speed\n",
      "100  1107  100  1107    0     0   2332      0 --:--:-- --:--:-- --:--:--  2345-:--:-- --:--:-- --:--:--  2345\n"
     ]
    }
   ],
   "source": [
    "ckpts_dir = \"tfm-ckpts\"\n",
    "models_dir = \"tf-models\"\n",
    "\n",
    "\n",
    "if not os.path.exists(ckpts_dir):\n",
    "    os.mkdir(ckpts_dir)\n",
    "if not os.path.exists(models_dir):\n",
    "    os.mkdir(models_dir)\n",
    "if not os.path.exists(config_path):\n",
    "    os.mkdir(config_path)\n",
    "    \n",
    "\n",
    "!curl -L https://storage.googleapis.com/tf_model_garden/vision/resnet/resnet-50-i224.tar.gz --output ./{ckpts_dir}/resnet50-ckpt.tar.gz\n",
    "!mkdir ./{ckpts_dir}/resnet50-ckpt/\n",
    "!tar -xvzf ./{ckpts_dir}/resnet50-ckpt.tar.gz -C ./{ckpts_dir}/resnet50-ckpt/\n",
    "!rm ./{ckpts_dir}/resnet50-ckpt.tar.gz\n",
    "\n",
    "!curl -L https://raw.githubusercontent.com/tensorflow/models/master/official/vision/configs/experiments/image_classification/imagenet_resnet50_tpu.yaml --output ./{config_path}/imagenet_resnet50_tpu.yaml\n",
    "\n"
   ]
  },
  {
   "cell_type": "code",
   "execution_count": null,
   "id": "dbc89779-aaa9-42bf-a605-376ef9c6b2c8",
   "metadata": {},
   "outputs": [],
   "source": [
    "config_path = \"ml_exp_configs\"\n",
    "exp_config = exp_factory.get_exp_config('resnet_imagenet')\n",
    "\n",
    "with open(f'./{config_path}/imagenet_resnet50_tpu.yaml', 'r') as file:\n",
    "  override_params = yaml.full_load(file)"
   ]
  },
  {
   "cell_type": "code",
   "execution_count": null,
   "id": "8a93e719-ea35-4905-b1dc-c45da5a1ced4",
   "metadata": {},
   "outputs": [],
   "source": [
    "export_saved_model_lib.export_inference_graph(\n",
    "    input_type='image_tensor',\n",
    "    batch_size=1,\n",
    "    input_image_size=[224, 224],\n",
    "    checkpoint_path=f'./{ckpts_dir}/resnet50-ckpt/ckpt-62400',\n",
    "    params=exp_config,\n",
    "    export_dir=f'./{models_dir}/resnet50/'\n",
    ")"
   ]
  },
  {
   "cell_type": "code",
   "execution_count": null,
   "id": "072bf4f4-539e-4234-8b38-4bbbda2a35cc",
   "metadata": {},
   "outputs": [],
   "source": []
  }
 ],
 "metadata": {
  "kernelspec": {
   "display_name": "Python 3.10.11 ('tfm_py3.10')",
   "language": "python",
   "name": "python3"
  },
  "language_info": {
   "codemirror_mode": {
    "name": "ipython",
    "version": 3
   },
   "file_extension": ".py",
   "mimetype": "text/x-python",
   "name": "python",
   "nbconvert_exporter": "python",
   "pygments_lexer": "ipython3",
   "version": "3.10.11"
  },
  "vscode": {
   "interpreter": {
    "hash": "4dc9efde48b45ea92ca43a68056d1704c525877e6ca5ee242bdf0c3e1acfa050"
   }
  }
 },
 "nbformat": 4,
 "nbformat_minor": 5
}
