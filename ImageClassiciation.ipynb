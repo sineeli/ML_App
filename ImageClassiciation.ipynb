{
 "cells": [
  {
   "cell_type": "code",
   "execution_count": 4,
   "id": "a5634fc4-6d24-4bce-83dc-6add4490e90a",
   "metadata": {},
   "outputs": [],
   "source": [
    "import os\n",
    "import yaml\n",
    "import pprint\n",
    "import numpy as np\n",
    "import tensorflow as tf\n",
    "import tensorflow_models as tfm"
   ]
  },
  {
   "cell_type": "code",
   "execution_count": 2,
   "id": "7d201938-a18a-4230-94a6-8cacb30deb72",
   "metadata": {},
   "outputs": [],
   "source": [
    "from official.core import exp_factory\n",
    "from official.vision.modeling import factory\n",
    "from official.vision.serving import export_saved_model_lib"
   ]
  },
  {
   "cell_type": "code",
   "execution_count": 9,
   "id": "486fec0a-784f-40df-b021-d34844809441",
   "metadata": {},
   "outputs": [
    {
     "name": "stdout",
     "output_type": "stream",
     "text": [
      "  % Total    % Received % Xferd  Average Speed   Time    Time     Time  Current\n",
      "                                 Dload  Upload   Total   Spent    Left  Speed\n",
      "100 90.8M  100 90.8M    0     0  17.6M      0  0:00:05  0:00:05 --:--:-- 19.2M\n",
      "x ckpt-62400.data-00000-of-00001\n",
      "x ckpt-62400.index\n",
      "  % Total    % Received % Xferd  Average Speed   Time    Time     Time  Current\n",
      "                                 Dload  Upload   Total   Spent    Left  Speed\n",
      "100  1107  100  1107    0     0   3431      0 --:--:-- --:--:-- --:--:--  3492\n"
     ]
    }
   ],
   "source": [
    "ckpts_dir = \"tfm-ckpts\"\n",
    "models_dir = \"tf-models\"\n",
    "config_path = \"configs\"\n",
    "\n",
    "if not os.path.exists(ckpts_dir):\n",
    "    os.mkdir(ckpts_dir)\n",
    "if not os.path.exists(models_dir):\n",
    "    os.mkdir(models_dir)\n",
    "if not os.path.exists(config_path):\n",
    "    os.mkdir(config_path)\n",
    "    \n",
    "\n",
    "!curl -L https://storage.googleapis.com/tf_model_garden/vision/resnet/resnet-50-i224.tar.gz --output ./{ckpts_dir}/resnet50-ckpt.tar.gz\n",
    "!mkdir ./{ckpts_dir}/resnet50-ckpt/\n",
    "!tar -xvzf ./{ckpts_dir}/resnet50-ckpt.tar.gz -C ./{ckpts_dir}/resnet50-ckpt/\n",
    "!rm ./{ckpts_dir}/resnet50-ckpt.tar.gz\n",
    "\n",
    "!curl -L https://raw.githubusercontent.com/tensorflow/models/master/official/vision/configs/experiments/image_classification/imagenet_resnet50_tpu.yaml --output ./{config_path}/imagenet_resnet50_tpu.yaml\n",
    "\n"
   ]
  },
  {
   "cell_type": "code",
   "execution_count": 11,
   "id": "dbc89779-aaa9-42bf-a605-376ef9c6b2c8",
   "metadata": {},
   "outputs": [],
   "source": [
    "exp_config = exp_factory.get_exp_config('resnet_imagenet')\n",
    "\n",
    "with open(f'./{config_path}/imagenet_resnet50_tpu.yaml', 'r') as file:\n",
    "  override_params = yaml.full_load(file)"
   ]
  },
  {
   "cell_type": "code",
   "execution_count": 13,
   "id": "8a93e719-ea35-4905-b1dc-c45da5a1ced4",
   "metadata": {},
   "outputs": [
    {
     "name": "stderr",
     "output_type": "stream",
     "text": [
      "WARNING:absl:Found untraced functions such as inference_for_tflite, inference_from_image_bytes, inference_from_tf_example, _jit_compiled_convolution_op, conv2d_layer_call_fn while saving (showing 5 of 288). These functions will not be directly callable after loading.\n"
     ]
    },
    {
     "name": "stdout",
     "output_type": "stream",
     "text": [
      "INFO:tensorflow:Assets written to: ./tf-models/resnet50/assets\n"
     ]
    },
    {
     "name": "stderr",
     "output_type": "stream",
     "text": [
      "INFO:tensorflow:Assets written to: ./tf-models/resnet50/assets\n"
     ]
    }
   ],
   "source": [
    "export_saved_model_lib.export_inference_graph(\n",
    "    input_type='image_tensor',\n",
    "    batch_size=1,\n",
    "    input_image_size=[224, 224],\n",
    "    checkpoint_path=f'./{ckpts_dir}/resnet50-ckpt/ckpt-62400',\n",
    "    params=exp_config,\n",
    "    export_dir=f'./{models_dir}/resnet50/'\n",
    ")"
   ]
  },
  {
   "cell_type": "code",
   "execution_count": null,
   "id": "072bf4f4-539e-4234-8b38-4bbbda2a35cc",
   "metadata": {},
   "outputs": [],
   "source": []
  }
 ],
 "metadata": {
  "kernelspec": {
   "display_name": "Python 3 (ipykernel)",
   "language": "python",
   "name": "python3"
  },
  "language_info": {
   "codemirror_mode": {
    "name": "ipython",
    "version": 3
   },
   "file_extension": ".py",
   "mimetype": "text/x-python",
   "name": "python",
   "nbconvert_exporter": "python",
   "pygments_lexer": "ipython3",
   "version": "3.10.7"
  }
 },
 "nbformat": 4,
 "nbformat_minor": 5
}
