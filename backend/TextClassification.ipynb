{
 "cells": [
  {
   "cell_type": "code",
   "execution_count": 1,
   "metadata": {},
   "outputs": [],
   "source": [
    "import os\n",
    "import yaml\n",
    "import pprint\n",
    "import numpy as np\n",
    "import tensorflow as tf"
   ]
  },
  {
   "cell_type": "code",
   "execution_count": 2,
   "metadata": {},
   "outputs": [
    {
     "name": "stdout",
     "output_type": "stream",
     "text": [
      "/Users/sravanneeli/Documents/ML_App/models\n"
     ]
    }
   ],
   "source": [
    "%cd models"
   ]
  },
  {
   "cell_type": "code",
   "execution_count": 3,
   "metadata": {},
   "outputs": [],
   "source": [
    "from official.core import exp_factory\n",
    "from official.vision.modeling import factory\n",
    "from official.vision.serving import export_saved_model_lib"
   ]
  },
  {
   "cell_type": "code",
   "execution_count": 9,
   "metadata": {},
   "outputs": [
    {
     "name": "stdout",
     "output_type": "stream",
     "text": [
      "  % Total    % Received % Xferd  Average Speed   Time    Time     Time  Current\n",
      "                                 Dload  Upload   Total   Spent    Left  Speed\n",
      "100  386M  100  386M    0     0  19.6M      0  0:00:19  0:00:19 --:--:-- 22.8M0  16.3M      0  0:00:23  0:00:04  0:00:19 16.3M  0:00:19  0:00:07  0:00:12 20.9M    0  0:00:20  0:00:13  0:00:07 15.8M\n"
     ]
    }
   ],
   "source": [
    "!curl -L \"https://storage.googleapis.com/tf_model_garden/nlp/bert/v3/uncased_L-12_H-768_A-12.tar.gz\" --output \"../app/tfm-ckpts/uncased_L-12_H-768_A-12.tar.gz\""
   ]
  },
  {
   "cell_type": "code",
   "execution_count": 10,
   "metadata": {},
   "outputs": [
    {
     "name": "stdout",
     "output_type": "stream",
     "text": [
      "x uncased_L-12_H-768_A-12/\n",
      "x uncased_L-12_H-768_A-12/vocab.txt\n",
      "x uncased_L-12_H-768_A-12/bert_model.ckpt.index\n",
      "x uncased_L-12_H-768_A-12/bert_model.ckpt.data-00000-of-00001\n",
      "x uncased_L-12_H-768_A-12/params.yaml\n",
      "x uncased_L-12_H-768_A-12/bert_config.json\n"
     ]
    }
   ],
   "source": [
    "!mkdir \"../app/tfm-ckpts/uncased_L-12_H-768_A-12-ckpt/\"\n",
    "!tar -xvzf \"../app/tfm-ckpts/uncased_L-12_H-768_A-12.tar.gz\" -C \"../app/tfm-ckpts/uncased_L-12_H-768_A-12-ckpt/\"\n",
    "!rm \"../app/tfm-ckpts/uncased_L-12_H-768_A-12.tar.gz\""
   ]
  }
 ],
 "metadata": {
  "kernelspec": {
   "display_name": "Python 3.10.11 ('tfm_py3.10')",
   "language": "python",
   "name": "python3"
  },
  "language_info": {
   "codemirror_mode": {
    "name": "ipython",
    "version": 3
   },
   "file_extension": ".py",
   "mimetype": "text/x-python",
   "name": "python",
   "nbconvert_exporter": "python",
   "pygments_lexer": "ipython3",
   "version": "3.10.11"
  },
  "orig_nbformat": 4,
  "vscode": {
   "interpreter": {
    "hash": "4dc9efde48b45ea92ca43a68056d1704c525877e6ca5ee242bdf0c3e1acfa050"
   }
  }
 },
 "nbformat": 4,
 "nbformat_minor": 2
}
