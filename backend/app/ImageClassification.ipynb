{
 "cells": [
  {
   "cell_type": "code",
   "execution_count": 1,
   "metadata": {},
   "outputs": [],
   "source": [
    "import cv2 \n",
    "import numpy as np"
   ]
  },
  {
   "cell_type": "code",
   "execution_count": 13,
   "metadata": {},
   "outputs": [],
   "source": [
    "img  = cv2.imread('3C__99122__01407.jpg')\n",
    "img = cv2.cvtColor(img, cv2.COLOR_BGR2RGB)\n",
    "img = cv2.resize(img, dsize=(224, 224))\n",
    "img = img[np.newaxis, ...].astype('uint8')"
   ]
  },
  {
   "cell_type": "code",
   "execution_count": 14,
   "metadata": {},
   "outputs": [
    {
     "name": "stdout",
     "output_type": "stream",
     "text": [
      "{'probs': [[2.07014041e-11, 8.88116825e-17, 3.42022454e-16, 7.81655437e-17, 7.63281787e-06, 1.56329691e-12, 2.22934599e-13, 2.36385802e-12, 7.22927143e-05, 2.76675189e-12, 1.43671143e-12, 9.52462154e-12, 1.71427136e-13, 1.92131681e-18, 2.29819084e-18, 1.33787216e-17, 5.83560922e-10, 6.07406135e-17, 3.40141035e-16, 7.14074344e-16, 1.08086818e-13, 4.5923443e-14, 6.29621706e-20, 1.1144523e-19, 1.43176179e-17, 1.15028452e-05, 7.75151156e-13, 1.48343542e-11, 2.6767491e-11, 8.20481638e-09, 3.38871809e-16, 2.92205733e-14, 4.41847859e-14, 1.34676029e-11, 2.56892747e-18, 2.66882893e-17, 7.58111941e-18, 1.98830585e-05, 7.56952227e-13, 1.74151394e-12, 6.99842753e-11, 5.87865312e-10, 1.36648469e-15, 1.53514981e-15, 2.36197136e-14, 0.999878883, 1.39017672e-07, 2.6553605e-06, 1.2826556e-06, 5.66489825e-06, 1.29807135e-13, 1.35406619e-13, 2.23624201e-12]], 'logits': [[3.38410735, -8.97508621, -7.62672663, -9.10277653, 16.2018738, 0.800703645, -1.14697015, 1.21420038, 18.45014, 1.37157953, 0.716263, 2.60778642, -1.40969086, -12.8085947, -12.6294832, -10.867938, 6.72305536, -9.35499096, -7.63224363, -6.89061737, -1.87091398, -2.72687292, -16.2268257, -15.6558247, -10.8001146, 16.612011, 0.0992088169, 3.05085254, 3.64109468, 9.36638165, -7.63598299, -3.17897558, -2.76546836, 2.95419335, -12.5181141, -10.1773796, -11.4359436, 17.1592846, 0.0754518211, 0.908660173, 4.60217571, 6.73040438, -6.2416091, -6.12522221, -3.39176702, 27.9848061, 12.1962624, 15.145997, 14.4183493, 15.9037056, -1.68779874, -1.64556611, 1.15870285]]}\n"
     ]
    }
   ],
   "source": [
    "import requests\n",
    "import json\n",
    "import numpy as np\n",
    "\n",
    "# Set the URL of the TensorFlow Serving container\n",
    "url = 'http://localhost:8501/v1/models/card_classification:predict'\n",
    "\n",
    "# Prepare the request headers\n",
    "headers = {'Content-Type': 'application/json'}\n",
    "\n",
    "input_data = img.tolist()\n",
    "\n",
    "# Create the request payload\n",
    "payload = {\n",
    "    'model_spec': {\n",
    "        'name': 'card_classification',\n",
    "        'signature_name': 'serving_default',\n",
    "        'version': '1'\n",
    "    },\n",
    "    'inputs': {\n",
    "        'inputs': input_data\n",
    "    }\n",
    "}\n",
    "\n",
    "# Convert the payload to JSON\n",
    "payload_json = json.dumps(payload)\n",
    "\n",
    "# Send the POST request to the container\n",
    "response = requests.post(url, data=payload_json, headers=headers)\n",
    "\n",
    "# Process the prediction response\n",
    "if response.status_code == 200:\n",
    "    prediction = response.json()['outputs']\n",
    "    # Process the prediction as needed\n",
    "    print(prediction)\n",
    "else:\n",
    "    print('Error:', response.text)"
   ]
  },
  {
   "cell_type": "code",
   "execution_count": 9,
   "metadata": {},
   "outputs": [],
   "source": [
    "from app.load_trained_models import CARDS_CLASSES"
   ]
  },
  {
   "cell_type": "code",
   "execution_count": 15,
   "metadata": {},
   "outputs": [
    {
     "data": {
      "text/plain": [
       "'three of clubs'"
      ]
     },
     "execution_count": 15,
     "metadata": {},
     "output_type": "execute_result"
    }
   ],
   "source": [
    "CARDS_CLASSES[np.argmax(prediction['probs'][0])]"
   ]
  }
 ],
 "metadata": {
  "kernelspec": {
   "display_name": "Python 3.10.11 ('tfm_py3.10')",
   "language": "python",
   "name": "python3"
  },
  "language_info": {
   "codemirror_mode": {
    "name": "ipython",
    "version": 3
   },
   "file_extension": ".py",
   "mimetype": "text/x-python",
   "name": "python",
   "nbconvert_exporter": "python",
   "pygments_lexer": "ipython3",
   "version": "3.10.6"
  },
  "orig_nbformat": 4,
  "vscode": {
   "interpreter": {
    "hash": "4dc9efde48b45ea92ca43a68056d1704c525877e6ca5ee242bdf0c3e1acfa050"
   }
  }
 },
 "nbformat": 4,
 "nbformat_minor": 2
}
